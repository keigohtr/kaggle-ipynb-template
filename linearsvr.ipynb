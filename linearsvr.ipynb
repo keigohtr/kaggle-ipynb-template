{
 "cells": [
  {
   "cell_type": "code",
   "execution_count": null,
   "metadata": {},
   "outputs": [],
   "source": [
    "import warnings\n",
    "warnings.filterwarnings('ignore')\n",
    "\n",
    "import pandas as pd\n",
    "import numpy as np\n",
    "from sklearn.model_selection import StratifiedKFold\n",
    "from sklearn.model_selection import cross_val_score\n",
    "from sklearn.svm import SVR, LinearSVR\n",
    "from sklearn.metrics import accuracy_score\n",
    "from time import gmtime, strftime\n",
    "\n",
    "import optuna"
   ]
  },
  {
   "cell_type": "code",
   "execution_count": null,
   "metadata": {},
   "outputs": [],
   "source": [
    "train_df = pd.read_csv('train.csv')\n",
    "test_df = pd.read_csv('test.csv')"
   ]
  },
  {
   "cell_type": "code",
   "execution_count": null,
   "metadata": {},
   "outputs": [],
   "source": [
    "param = {\n",
    "    #'kernel': 'rbf',\n",
    "    #'C': 1e+0,\n",
    "    #'gamma': 1e-2,\n",
    "    'verbose': 3\n",
    "}"
   ]
  },
  {
   "cell_type": "code",
   "execution_count": null,
   "metadata": {},
   "outputs": [],
   "source": [
    "num_data, num_feature = train_df.shape\n",
    "print(num_data, num_feature)"
   ]
  },
  {
   "cell_type": "code",
   "execution_count": null,
   "metadata": {},
   "outputs": [],
   "source": [
    "def objective(trial):\n",
    "    if len(train_df_0) > len(train_df_1):\n",
    "        train_df_balanced = train_df_1.append(train_df_0.sample(n=len(train_df_1)))\n",
    "    else:\n",
    "        train_df_balanced = train_df_0.append(train_df_1.sample(n=len(train_df_0)))\n",
    "    X = train_df_balanced.drop(['ID_code', 'target'], axis=1)\n",
    "    y = train_df_balanced.target\n",
    "\n",
    "    #param['kernel'] = trial.suggest_categorical('kernel', ['rbf', 'sigmoid'])\n",
    "    param['C'] = trial.suggest_loguniform('C', 1e+0, 1e+2)\n",
    "    #param['gamma'] = trial.suggest_loguniform('gamma', 1e-2, 1e+1)\n",
    "    print(param)\n",
    "    #clf = SVR(**param)\n",
    "    clf = LinearSVR(**param)\n",
    "    kf = StratifiedKFold(n_splits=5, shuffle=True, random_state=7485)\n",
    "    score = cross_val_score(clf, X=X.values, y=y.values, cv=kf, n_jobs=-1, verbose=3)\n",
    "    accuracy = score.mean()\n",
    "    print(accuracy)\n",
    "    return 1.0 - accuracy"
   ]
  },
  {
   "cell_type": "code",
   "execution_count": null,
   "metadata": {},
   "outputs": [],
   "source": [
    "train_df.head()"
   ]
  },
  {
   "cell_type": "code",
   "execution_count": null,
   "metadata": {
    "scrolled": true
   },
   "outputs": [],
   "source": [
    "train_df.target.value_counts(normalize=True)"
   ]
  },
  {
   "cell_type": "code",
   "execution_count": null,
   "metadata": {},
   "outputs": [],
   "source": [
    "test_df.head()"
   ]
  },
  {
   "cell_type": "code",
   "execution_count": null,
   "metadata": {},
   "outputs": [],
   "source": [
    "train_df.dtypes"
   ]
  },
  {
   "cell_type": "code",
   "execution_count": null,
   "metadata": {},
   "outputs": [],
   "source": [
    "train_df.isnull().sum().sort_values(ascending=False)[:10]"
   ]
  },
  {
   "cell_type": "code",
   "execution_count": null,
   "metadata": {},
   "outputs": [],
   "source": [
    "# Drop Different Columns from train and test\n",
    "print('\\nTrain and Test Datasets have the same columns?:',\n",
    "      train_df.drop('target',axis=1).columns.tolist()==test_df.columns.tolist())\n",
    "print(\"\\nVariables not in test but in train : \", \n",
    "      set(train_df.drop('target',axis=1).columns).difference(set(test_df.columns)))\n",
    "dif = list(set(train_df.drop('target',axis=1).columns).difference(set(test_df.columns)))"
   ]
  },
  {
   "cell_type": "code",
   "execution_count": null,
   "metadata": {},
   "outputs": [],
   "source": [
    "# Prepare data\n",
    "train_df_0 = train_df.query('target == 0')\n",
    "train_df_1 = train_df.query('target == 1')\n",
    "X_test = test_df.drop(['ID_code'], axis=1)\n",
    "print(len(train_df), len(test_df))"
   ]
  },
  {
   "cell_type": "code",
   "execution_count": null,
   "metadata": {},
   "outputs": [],
   "source": [
    "# Parameter Tuning\n",
    "study = optuna.create_study()\n",
    "study.optimize(objective, n_trials=100)\n",
    "\n",
    "print('Number of finished trials: {}'.format(len(study.trials)))\n",
    "\n",
    "print('Best trial:')\n",
    "trial = study.best_trial\n",
    "best_params = study.best_params\n",
    "\n",
    "print('  Value: {}'.format(trial.value))\n",
    "\n",
    "print('  Params: ')\n",
    "for key, value in trial.params.items():\n",
    "    print('    {}: {}'.format(key, value))"
   ]
  },
  {
   "cell_type": "code",
   "execution_count": null,
   "metadata": {},
   "outputs": [],
   "source": [
    "def min_max(x, axis=None):\n",
    "    min = x.min(axis=axis, keepdims=True)\n",
    "    max = x.max(axis=axis, keepdims=True)\n",
    "    result = (x-min)/(max-min)\n",
    "    return result"
   ]
  },
  {
   "cell_type": "code",
   "execution_count": null,
   "metadata": {},
   "outputs": [],
   "source": [
    "# Building model using BEST parameters, then predict test data\n",
    "print(\"svm_model ...\")\n",
    "param.update(best_params)\n",
    "print(param)\n",
    "#clf = SVR(**param)\n",
    "clf = LinearSVR(**param)\n",
    "prediction = np.zeros(len(X_test))\n",
    "for i in range(10):\n",
    "    print(i)\n",
    "    if len(train_df_0) > len(train_df_1):\n",
    "        train_df_balanced = train_df_1.append(train_df_0.sample(n=len(train_df_1)))\n",
    "    else:\n",
    "        train_df_balanced = train_df_0.append(train_df_1.sample(n=len(train_df_0)))\n",
    "    X = train_df_balanced.drop(['ID_code', 'target'], axis=1)\n",
    "    y = train_df_balanced.target\n",
    "    clf.fit(X.values, y.values)\n",
    "    result = clf.predict(X_test.values)\n",
    "    prediction += min_max(result)/10\n",
    "print(\"...Done\")"
   ]
  },
  {
   "cell_type": "code",
   "execution_count": null,
   "metadata": {},
   "outputs": [],
   "source": [
    "# Save\n",
    "test_df['target'] = prediction\n",
    "submission_string = 'svm_' + strftime(\"%Y-%m-%d %H:%M:%S\", gmtime()) + '.csv'\n",
    "test_df.loc[:, ['ID_code', 'target']].to_csv(submission_string, index=False)"
   ]
  },
  {
   "cell_type": "code",
   "execution_count": null,
   "metadata": {},
   "outputs": [],
   "source": []
  }
 ],
 "metadata": {
  "kernelspec": {
   "display_name": "Python 3",
   "language": "python",
   "name": "python3"
  },
  "language_info": {
   "codemirror_mode": {
    "name": "ipython",
    "version": 3
   },
   "file_extension": ".py",
   "mimetype": "text/x-python",
   "name": "python",
   "nbconvert_exporter": "python",
   "pygments_lexer": "ipython3",
   "version": "3.6.5"
  }
 },
 "nbformat": 4,
 "nbformat_minor": 2
}
